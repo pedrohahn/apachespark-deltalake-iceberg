{
  "nbformat": 4,
  "nbformat_minor": 0,
  "metadata": {
    "colab": {
      "provenance": [],
      "authorship_tag": "ABX9TyPVBpH8BbnXODnDU41PnoJT",
      "include_colab_link": true
    },
    "kernelspec": {
      "name": "python3",
      "display_name": "Python 3"
    },
    "language_info": {
      "name": "python"
    }
  },
  "cells": [
    {
      "cell_type": "markdown",
      "metadata": {
        "id": "view-in-github",
        "colab_type": "text"
      },
      "source": [
        "<a href=\"https://colab.research.google.com/github/pedrohahn/apachespark-deltalake-iceberg/blob/main/wine/Trabalho%20de%20Pesquisa%20-%20Dataset%20Wine.ipynb\" target=\"_parent\"><img src=\"https://colab.research.google.com/assets/colab-badge.svg\" alt=\"Open In Colab\"/></a>"
      ]
    },
    {
      "cell_type": "code",
      "execution_count": null,
      "metadata": {
        "id": "yBKiEgW9xOgt"
      },
      "outputs": [],
      "source": [
        "# Instalando as dependências\n",
        "!pip install delta-spark\n",
        "!pip install py4j\n",
        "!pip install apache-iceberg\n",
        "\n",
        "# Importando as bibliotecas necessárias\n",
        "from pyspark.sql import SparkSession\n",
        "\n",
        "# Iniciando uma sessão Spark\n",
        "spark = SparkSession.builder \\\n",
        "    .appName(\"wine_data\") \\\n",
        "    .config(\"spark.sql.extensions\", \"io.delta.sql.DeltaSparkSessionExtension\") \\\n",
        "    .config(\"spark.sql.catalog.spark_catalog\", \"org.apache.spark.sql.delta.catalog.DeltaCatalog\") \\\n",
        "    .getOrCreate()\n",
        "\n",
        "# Lendo o dataset\n",
        "wine_df = spark.read.option(\"header\", True).csv(\"winemag-data-130k-v2.csv\")\n",
        "\n",
        "# Mostrando as primeiras linhas do DataFrame\n",
        "wine_df.show(5)\n",
        "\n",
        "# Escrevendo o DataFrame como uma tabela Delta\n",
        "wine_df.write.format(\"delta\").save(\"/tmp/delta_wine_data\")\n",
        "\n",
        "# Escrevendo o DataFrame como uma tabela Iceberg\n",
        "wine_df.write.format(\"iceberg\").save(\"/tmp/iceberg_wine_data\")"
      ]
    },
    {
      "cell_type": "markdown",
      "source": [
        "DELTA LAKE"
      ],
      "metadata": {
        "id": "zz6NiLiyxaSQ"
      }
    },
    {
      "cell_type": "code",
      "source": [
        "# Lendo a tabela Delta\n",
        "delta_wine_df = spark.read.format(\"delta\").load(\"/tmp/delta_wine_data\")\n",
        "\n",
        "# Criando um novo DataFrame para inserção\n",
        "new_wine_data = spark.read.option(\"header\", True).csv(\"new_wine_data.csv\")\n",
        "\n",
        "# Realizando a operação de INSERT\n",
        "new_wine_data.write.format(\"delta\").mode(\"append\").save(\"/tmp/delta_wine_data\")"
      ],
      "metadata": {
        "id": "ewy-WFjGxQiM"
      },
      "execution_count": null,
      "outputs": []
    },
    {
      "cell_type": "code",
      "source": [
        "# Atualizando dados na tabela Delta\n",
        "from pyspark.sql.functions import col\n",
        "\n",
        "delta_wine_df = delta_wine_df.withColumn(\"price\", col(\"price\") * 1.1)\n",
        "\n",
        "delta_wine_df.write.format(\"delta\").mode(\"overwrite\").save(\"/tmp/delta_wine_data\")"
      ],
      "metadata": {
        "id": "EeBiMMP6xg6n"
      },
      "execution_count": null,
      "outputs": []
    },
    {
      "cell_type": "code",
      "source": [
        "# Deletando dados na tabela Delta\n",
        "delta_wine_df = delta_wine_df.filter(col(\"country\") != \"Portugal\")\n",
        "\n",
        "delta_wine_df.write.format(\"delta\").mode(\"overwrite\").save(\"/tmp/delta_wine_data\")"
      ],
      "metadata": {
        "id": "cusHjD0SxkNI"
      },
      "execution_count": null,
      "outputs": []
    },
    {
      "cell_type": "markdown",
      "source": [
        "ICEBERG"
      ],
      "metadata": {
        "id": "-sYizGpJxnRI"
      }
    },
    {
      "cell_type": "code",
      "source": [
        "# Lendo a tabela Iceberg\n",
        "iceberg_wine_df = spark.read.format(\"iceberg\").load(\"/tmp/iceberg_wine_data\")\n",
        "\n",
        "# Criando um novo DataFrame para inserção\n",
        "new_wine_data = spark.read.option(\"header\", True).csv(\"new_wine_data.csv\")\n",
        "\n",
        "# Realizando a operação de INSERT\n",
        "new_wine_data.write.format(\"iceberg\").mode(\"append\").save(\"/tmp/iceberg_wine_data\")"
      ],
      "metadata": {
        "id": "lXWfuKrIxw5o"
      },
      "execution_count": null,
      "outputs": []
    },
    {
      "cell_type": "code",
      "source": [
        "# Atualizando dados na tabela Iceberg\n",
        "from pyspark.sql.functions import col\n",
        "\n",
        "iceberg_wine_df = iceberg_wine_df.withColumn(\"price\", col(\"price\") * 1.1)\n",
        "\n",
        "iceberg_wine_df.write.format(\"iceberg\").mode(\"overwrite\").save(\"/tmp/iceberg_wine_data\")"
      ],
      "metadata": {
        "id": "QXyFdKOsxzbR"
      },
      "execution_count": null,
      "outputs": []
    },
    {
      "cell_type": "code",
      "source": [
        "# Deletando dados na tabela Iceberg\n",
        "iceberg_wine_df = iceberg_wine_df.filter(col(\"country\") != \"Portugal\")\n",
        "\n",
        "iceberg_wine_df.write.format(\"iceberg\").mode(\"overwrite\").save(\"/tmp/iceberg_wine_data\")"
      ],
      "metadata": {
        "id": "A4eM4Sj3x0yZ"
      },
      "execution_count": null,
      "outputs": []
    }
  ]
}