{
 "cells": [
  {
   "cell_type": "code",
   "execution_count": null,
   "id": "e2bd7eea-0b40-42a8-9db2-d23a91ade3bd",
   "metadata": {},
   "outputs": [],
   "source": [
    "import os\n",
    "import pyspark\n",
    "from pyspark.sql import SparkSession\n",
    "\n",
    "# Configurações do iceberg\n",
    "conf = (\n",
    "    pyspark.SparkConf()\n",
    "        .setAppName('app_name')\n",
    "  \t\t# Pacotes\n",
    "        .set('spark.jars.packages', 'org.apache.iceberg:iceberg-spark-runtime-3.3_2.12:1.4.3,software.amazon.awssdk:bundle:2.17.178,software.amazon.awssdk:url-connection-client:2.17.178')\n",
    "  \t\t# Extensões do SQL\n",
    "        .set('spark.sql.extensions', 'org.apache.iceberg.spark.extensions.IcebergSparkSessionExtensions')\n",
    "  \t\t# Configurações do catalog\n",
    "        .set('spark.sql.catalog.iceberg', 'org.apache.iceberg.spark.SparkCatalog')\n",
    "        .set('spark.sql.catalog.iceberg.type', 'hadoop')\n",
    "        .set('spark.sql.catalog.iceberg.warehouse', 'iceberg-warehouse')\n",
    "        .set(\"spark.sql.catalogImplementation\",\"hive\")\n",
    ")\n",
    "\n",
    "spark = SparkSession.builder.config(conf=conf).getOrCreate()\n",
    "print(\"Spark Running\")"
   ]
  },
  {
   "cell_type": "code",
   "execution_count": null,
   "id": "30747deb-7139-4a7d-8de8-f254fe4f8dd4",
   "metadata": {},
   "outputs": [],
   "source": [
    "# Carrega os dados em um DataFrame\n",
    "df = spark.read.csv(\"./house-price-csv.csv\", header=True, inferSchema=True)\n",
    "\n",
    "# Mostrar as primeiras linhas do DataFrame para conferência\n",
    "df.show()\n"
   ]
  },
  {
   "cell_type": "code",
   "execution_count": null,
   "id": "a7cbff0a-e6dd-4e23-b4e1-a5134aab9e32",
   "metadata": {
    "scrolled": true
   },
   "outputs": [],
   "source": [
    "# Crie um DataFrame usando Delta Lake\n",
    "df = spark.read.format(\"delta\").load(\"./house-price-csv.csv\")\n",
    "\n",
    "# Exiba o DataFrame\n",
    "df.show()\n",
    "\n",
    "# Salve o DataFrame no formato Delta Lake\n",
    "df.write.format(\"delta\").save(\"./house-price-csv.csv\")\n"
   ]
  },
  {
   "cell_type": "code",
   "execution_count": null,
   "id": "5ce96d3f-9576-4492-81c3-6f043b532050",
   "metadata": {},
   "outputs": [],
   "source": [
    "# Crie uma tabela usando Apache Iceberg\n",
    "df.write.format(\"iceberg\").save(\"./house-price-csv.csv\")\n",
    "\n",
    "# Leitura de uma tabela Iceberg\n",
    "iceberg_df = spark.read.format(\"iceberg\").load(\"./house-price-csv.csv\")\n",
    "\n",
    "# Exiba o DataFrame Iceberg\n",
    "iceberg_df.show()"
   ]
  }
 ],
 "metadata": {
  "kernelspec": {
   "display_name": "Python 3 (ipykernel)",
   "language": "python",
   "name": "python3"
  },
  "language_info": {
   "codemirror_mode": {
    "name": "ipython",
    "version": 3
   },
   "file_extension": ".py",
   "mimetype": "text/x-python",
   "name": "python",
   "nbconvert_exporter": "python",
   "pygments_lexer": "ipython3",
   "version": "3.10.11"
  }
 },
 "nbformat": 4,
 "nbformat_minor": 5
}
